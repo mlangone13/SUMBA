{
 "cells": [
  {
   "cell_type": "code",
   "execution_count": 1,
   "id": "0d7dbab4",
   "metadata": {},
   "outputs": [],
   "source": [
    "%load_ext autoreload\n",
    "%autoreload 2"
   ]
  },
  {
   "cell_type": "code",
   "execution_count": 8,
   "id": "12e3e338",
   "metadata": {},
   "outputs": [
    {
     "name": "stderr",
     "output_type": "stream",
     "text": [
      "Ultralytics YOLOv8.0.95 🚀 Python-3.8.9 torch-2.0.1 CPU\n",
      "Setup complete ✅ (8 CPUs, 8.0 GB RAM, 185.0/228.3 GB disk)\n"
     ]
    },
    {
     "name": "stdout",
     "output_type": "stream",
     "text": [
      "[GRASPING] - Using N=50 and tol=5\n"
     ]
    }
   ],
   "source": [
    "from src.internal.sumba import Sumba\n",
    "from PIL import Image\n",
    "\n",
    "image = Image.open('imgs/d.jpeg')\n",
    "sumba = Sumba(\n",
    "    detector_id=\"yolov8\",\n",
    "    detector_th=0.05,\n",
    "    detector_max_object_size=0.1,\n",
    "    segmentator_id=\"yolov8\",\n",
    "    segmentator_min_mask_size=0.3,\n",
    "    grasping_N=50,\n",
    "    grasping_tol=5,\n",
    "    show=True\n",
    ")"
   ]
  },
  {
   "cell_type": "code",
   "execution_count": 9,
   "id": "040bd36c",
   "metadata": {
    "scrolled": true
   },
   "outputs": [
    {
     "name": "stdout",
     "output_type": "stream",
     "text": [
      "\n",
      "***************************************************************\n",
      "**************** STARTING OBJECT RECO PIPELINE ****************\n",
      "***************************************************************\n"
     ]
    },
    {
     "name": "stderr",
     "output_type": "stream",
     "text": [
      "\n",
      "0: 384x640 1 bottle, 1 cup, 1 apple, 1 cell phone, 2 refrigerators, 107.0ms\n",
      "Speed: 3.9ms preprocess, 107.0ms inference, 6.3ms postprocess per image at shape (1, 3, 640, 640)\n"
     ]
    },
    {
     "name": "stdout",
     "output_type": "stream",
     "text": [
      "----------- REMOVED OBJECT --------\n",
      "(<PIL.Image.Image image mode=RGB size=717x686 at 0x2977116D0>, [0, 3, 717, 689], 'refrigerator', 0.13718822598457336)\n",
      "----------- REMOVED OBJECT --------\n",
      "(<PIL.Image.Image image mode=RGB size=322x683 at 0x2977111C0>, [0, 2, 322, 685], 'refrigerator', 0.10496221482753754)\n"
     ]
    },
    {
     "name": "stderr",
     "output_type": "stream",
     "text": [
      "\n",
      "0: 640x640 1 pizza, 151.0ms\n",
      "Speed: 2.3ms preprocess, 151.0ms inference, 3.9ms postprocess per image at shape (1, 3, 640, 640)\n"
     ]
    },
    {
     "name": "stdout",
     "output_type": "stream",
     "text": [
      "\n",
      "--- New Object Detected ---\n",
      "<PIL.Image.Image image mode=RGB size=113x114 at 0x297711C70>\n"
     ]
    },
    {
     "name": "stderr",
     "output_type": "stream",
     "text": [
      "\n",
      "0: 608x640 1 person, 1 vase, 151.6ms\n",
      "Speed: 3.5ms preprocess, 151.6ms inference, 2.7ms postprocess per image at shape (1, 3, 640, 640)\n"
     ]
    },
    {
     "name": "stdout",
     "output_type": "stream",
     "text": [
      "Original value: [640, 194, 753, 308]\n",
      "Best Grasping value: [33, 316, 611, 317]\n",
      "Final absolut grasp: (645.8265625, 250.2875, 747.8796875, 250.465625)\n",
      "\n",
      "--- New Object Detected ---\n",
      "<PIL.Image.Image image mode=RGB size=148x140 at 0x297715FA0>\n"
     ]
    },
    {
     "name": "stderr",
     "output_type": "stream",
     "text": [
      "\n",
      "0: 640x640 1 person, 134.0ms\n",
      "Speed: 3.0ms preprocess, 134.0ms inference, 1.8ms postprocess per image at shape (1, 3, 640, 640)\n"
     ]
    },
    {
     "name": "stdout",
     "output_type": "stream",
     "text": [
      "Original value: [451, 110, 599, 250]\n",
      "Best Grasping value: [227, 155, 425, 455]\n",
      "Final absolut grasp: (503.49375, 145.69078947368422, 549.28125, 214.76973684210526)\n",
      "\n",
      "--- New Object Detected ---\n",
      "<PIL.Image.Image image mode=RGB size=105x101 at 0x297711FA0>\n"
     ]
    },
    {
     "name": "stderr",
     "output_type": "stream",
     "text": [
      "\n",
      "0: 640x576 1 cat, 1 cell phone, 160.6ms\n",
      "Speed: 3.8ms preprocess, 160.6ms inference, 2.7ms postprocess per image at shape (1, 3, 640, 640)\n"
     ]
    },
    {
     "name": "stdout",
     "output_type": "stream",
     "text": [
      "Original value: [1030, 331, 1135, 432]\n",
      "Best Grasping value: [347, 28, 311, 607]\n",
      "Final absolut grasp: (1086.9296875, 335.41875, 1081.0234375, 426.7921875)\n",
      "\n",
      "--- New Object Detected ---\n",
      "<PIL.Image.Image image mode=RGB size=154x171 at 0x2977116D0>\n",
      "Original value: [683, 3, 837, 174]\n",
      "Best Grasping value: [151, 218, 452, 402]\n",
      "Final absolut grasp: (723.3715277777778, 61.246875, 803.8472222222222, 110.40937500000001)\n"
     ]
    }
   ],
   "source": [
    "detector_one_object = False\n",
    "results = sumba.run_pipeline(image, detector_one_object) "
   ]
  },
  {
   "cell_type": "code",
   "execution_count": null,
   "id": "2dedb25d",
   "metadata": {},
   "outputs": [],
   "source": []
  },
  {
   "cell_type": "code",
   "execution_count": 11,
   "id": "331c32d1",
   "metadata": {},
   "outputs": [
    {
     "name": "stderr",
     "output_type": "stream",
     "text": [
      "Ultralytics YOLOv8.0.95 🚀 Python-3.8.9 torch-2.0.1 CPU\n",
      "Setup complete ✅ (8 CPUs, 8.0 GB RAM, 183.8/228.3 GB disk)\n"
     ]
    }
   ],
   "source": []
  },
  {
   "cell_type": "code",
   "execution_count": null,
   "id": "68bb1eae",
   "metadata": {},
   "outputs": [],
   "source": []
  }
 ],
 "metadata": {
  "kernelspec": {
   "display_name": "Python 3 (ipykernel)",
   "language": "python",
   "name": "python3"
  },
  "language_info": {
   "codemirror_mode": {
    "name": "ipython",
    "version": 3
   },
   "file_extension": ".py",
   "mimetype": "text/x-python",
   "name": "python",
   "nbconvert_exporter": "python",
   "pygments_lexer": "ipython3",
   "version": "3.8.9"
  }
 },
 "nbformat": 4,
 "nbformat_minor": 5
}
